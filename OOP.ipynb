{
 "cells": [
  {
   "cell_type": "code",
   "execution_count": 86,
   "metadata": {},
   "outputs": [
    {
     "name": "stdout",
     "output_type": "stream",
     "text": [
      "['Name,Age,Weight,Salary\\n', '\"Yifang Bao\",1,110,100\\n', '\"Yifang1 Bao\",2,110,100\\n', '\"Yifang3 Bao\",3,110,100\\n', '\"Yifang4 Bao\",4,110,100']\n"
     ]
    }
   ],
   "source": [
    "#readlines\n",
    "with open('db.csv') as f:\n",
    "    text = f.readlines()\n",
    "    \n",
    "print(text)\n"
   ]
  },
  {
   "cell_type": "code",
   "execution_count": 87,
   "metadata": {},
   "outputs": [
    {
     "name": "stdout",
     "output_type": "stream",
     "text": [
      "110.0\n"
     ]
    }
   ],
   "source": [
    "#Procedural programing to count average weight\n",
    "\n",
    "\n",
    "def parseColum(columnName,rows):\n",
    "    headers = [row.strip() for row in rows[0].split(\",\")]\n",
    "    index = headers.index(columnName)\n",
    "    result = []\n",
    "    for row in rows[1:]:\n",
    "        result.append(row.strip().split(\",\")[index])\n",
    "    return result\n",
    "        \n",
    "def avgWeight(weights):\n",
    "    return sum([foat(w) for w in weights])/ len(weights)\n",
    "    \n",
    "\n",
    "weights =   parseColum(\"Weight\",text)\n",
    "print(avgWeight(weights))"
   ]
  },
  {
   "cell_type": "code",
   "execution_count": 117,
   "metadata": {},
   "outputs": [],
   "source": [
    "## OOP\n",
    "class Row:\n",
    "    def __init__(self,headers,text):\n",
    "        self.header = headers\n",
    "        self.data = {}\n",
    "        for head,data in zip(headers, text.strip().split(\",\")):\n",
    "            self.data[head] = data\n",
    "        print(self)\n",
    "    \n",
    "    def toInt(self, columnName):\n",
    "        return int(self.data[columnName])\n",
    "    \n",
    "    def toFloat(self, columnName):\n",
    "        return float(self.data[columnName])  \n",
    "    \n",
    "    def getValue(self,columnName):\n",
    "        return self.data[columnName]\n",
    "    \n",
    "    # represent the object\n",
    "    def __repr__(self):\n",
    "        return str(self.data)\n",
    "    def __str__(self):\n",
    "        return str(self.data)\n",
    "\n",
    "class CSV:\n",
    "    def __init__(self,fileName):\n",
    "        with open(fileName) as f:\n",
    "            text = f.readlines()        \n",
    "        self.headers = text[0].strip().split(\",\")\n",
    "        self.rows = [Row(self.headers, row) for row in text[1:]]\n",
    "    \n",
    "    # represent the object\n",
    "    def __repr__(self):\n",
    "        return \"\\n\".join([str(row) for row in self.rows])\n",
    "    \n",
    "    def averageColumn(self, columnName):\n",
    "        return sum([row.toInt(columnName) for row in self.rows]) / len(self.rows)\n",
    "    \n",
    "    def getHeaders(self):\n",
    "        return self.headers\n",
    "    \n",
    "    def getRowColumnLagerThan(self,columnName,value):\n",
    "        res = []\n",
    "        for row in self.rows:\n",
    "            if float(row.getValue(columnName)) > value:\n",
    "                res.append(row)\n",
    "        return res\n"
   ]
  },
  {
   "cell_type": "code",
   "execution_count": 118,
   "metadata": {},
   "outputs": [
    {
     "name": "stdout",
     "output_type": "stream",
     "text": [
      "{'Name': '\"Yifang Bao\"', 'Age': '1', 'Weight': '110', 'Salary': '100'}\n",
      "{'Name': '\"Yifang1 Bao\"', 'Age': '2', 'Weight': '110', 'Salary': '100'}\n",
      "{'Name': '\"Yifang3 Bao\"', 'Age': '3', 'Weight': '110', 'Salary': '100'}\n",
      "{'Name': '\"Yifang4 Bao\"', 'Age': '4', 'Weight': '110', 'Salary': '100'}\n"
     ]
    }
   ],
   "source": [
    "csv = CSV('db.csv')"
   ]
  },
  {
   "cell_type": "code",
   "execution_count": 119,
   "metadata": {},
   "outputs": [
    {
     "name": "stdout",
     "output_type": "stream",
     "text": [
      "avg age:  2.5\n",
      "avg weight:  110.0\n",
      "['Name', 'Age', 'Weight', 'Salary']\n",
      "[{'Name': '\"Yifang Bao\"', 'Age': '1', 'Weight': '110', 'Salary': '100'}, {'Name': '\"Yifang1 Bao\"', 'Age': '2', 'Weight': '110', 'Salary': '100'}, {'Name': '\"Yifang3 Bao\"', 'Age': '3', 'Weight': '110', 'Salary': '100'}, {'Name': '\"Yifang4 Bao\"', 'Age': '4', 'Weight': '110', 'Salary': '100'}]\n"
     ]
    }
   ],
   "source": [
    "print(\"avg age: \", csv.averageColumn(\"Age\"))\n",
    "print(\"avg weight: \", csv.averageColumn(\"Weight\"))\n",
    "print(csv.getHeaders())\n",
    "print(csv.getRowColumnLagerThan(\"Weight\", 100))"
   ]
  },
  {
   "cell_type": "code",
   "execution_count": null,
   "metadata": {},
   "outputs": [],
   "source": []
  },
  {
   "cell_type": "code",
   "execution_count": null,
   "metadata": {},
   "outputs": [],
   "source": []
  }
 ],
 "metadata": {
  "kernelspec": {
   "display_name": "Python 3",
   "language": "python",
   "name": "python3"
  },
  "language_info": {
   "codemirror_mode": {
    "name": "ipython",
    "version": 3
   },
   "file_extension": ".py",
   "mimetype": "text/x-python",
   "name": "python",
   "nbconvert_exporter": "python",
   "pygments_lexer": "ipython3",
   "version": "3.7.6"
  }
 },
 "nbformat": 4,
 "nbformat_minor": 4
}
